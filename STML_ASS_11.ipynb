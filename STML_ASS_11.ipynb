{
  "nbformat": 4,
  "nbformat_minor": 0,
  "metadata": {
    "colab": {
      "provenance": [],
      "authorship_tag": "ABX9TyN5W6+cjD0nAZmdhlIpXIs9",
      "include_colab_link": true
    },
    "kernelspec": {
      "name": "python3",
      "display_name": "Python 3"
    },
    "language_info": {
      "name": "python"
    }
  },
  "cells": [
    {
      "cell_type": "markdown",
      "metadata": {
        "id": "view-in-github",
        "colab_type": "text"
      },
      "source": [
        "<a href=\"https://colab.research.google.com/github/ARUNREDDYPOREDDY/STML-2303A52278/blob/main/STML_ASS_11.ipynb\" target=\"_parent\"><img src=\"https://colab.research.google.com/assets/colab-badge.svg\" alt=\"Open In Colab\"/></a>"
      ]
    },
    {
      "cell_type": "code",
      "execution_count": 6,
      "metadata": {
        "colab": {
          "base_uri": "https://localhost:8080/"
        },
        "id": "5nwxt-ilEPT2",
        "outputId": "76dccf65-80aa-4023-b08b-76c6cdcdd43a"
      },
      "outputs": [
        {
          "output_type": "stream",
          "name": "stdout",
          "text": [
            "   Age  Gender  Protein1  Protein2  Protein3  Protein4 Tumour_Stage  \\\n",
            "0   42  FEMALE   0.95256   2.15000  0.007972 -0.048340           II   \n",
            "1   54  FEMALE   0.00000   1.38020 -0.498030 -0.507320           II   \n",
            "2   63  FEMALE  -0.52303   1.76400 -0.370190  0.010815           II   \n",
            "3   78  FEMALE  -0.87618   0.12943 -0.370380  0.132190            I   \n",
            "4   42  FEMALE   0.22611   1.74910 -0.543970 -0.390210           II   \n",
            "\n",
            "                       Histology ER status PR status HER2 status Surgery_type  \\\n",
            "0  Infiltrating Ductal Carcinoma  Positive  Positive    Negative        Other   \n",
            "1  Infiltrating Ductal Carcinoma  Positive  Positive    Negative        Other   \n",
            "2  Infiltrating Ductal Carcinoma  Positive  Positive    Negative   Lumpectomy   \n",
            "3  Infiltrating Ductal Carcinoma  Positive  Positive    Negative        Other   \n",
            "4  Infiltrating Ductal Carcinoma  Positive  Positive    Positive   Lumpectomy   \n",
            "\n",
            "  Date_of_Surgery Date_of_Last_Visit Patient_Status  \n",
            "0       20-May-18          26-Aug-18          Alive  \n",
            "1       26-Apr-18          25-Jan-19           Dead  \n",
            "2       24-Aug-18          08-Apr-20          Alive  \n",
            "3       16-Nov-18          28-Jul-20          Alive  \n",
            "4       12-Dec-18          05-Jan-19          Alive  \n",
            "Index(['Age', 'Gender', 'Protein1', 'Protein2', 'Protein3', 'Protein4',\n",
            "       'Tumour_Stage', 'Histology', 'ER status', 'PR status', 'HER2 status',\n",
            "       'Surgery_type', 'Date_of_Surgery', 'Date_of_Last_Visit',\n",
            "       'Patient_Status'],\n",
            "      dtype='object')\n"
          ]
        }
      ],
      "source": [
        "\n",
        "\n",
        "import pandas as pd\n",
        "data = pd.read_csv('/content/archive (11).zip')\n",
        "print(data.head())\n",
        "print(data.columns)"
      ]
    },
    {
      "cell_type": "code",
      "source": [
        " import pandas as pd\n",
        " from sklearn.model_selection import train_test_split\n",
        " from sklearn.svm import SVC\n",
        " from sklearn.neighbors import KNeighborsClassifier\n",
        " from sklearn.linear_model import LogisticRegression\n",
        " from sklearn.decomposition import PCA\n",
        "from sklearn.metrics import accuracy_score\n",
        " from sklearn.preprocessing import LabelEncoder\n",
        " # Step 1: Load the dataset\n",
        " file_path = '/content/archive (11).zip'\n",
        " data = pd.read_csv(file_path, compression='zip')\n",
        "\n",
        " target_column = data.columns[-1]\n",
        " X = data.drop(columns=[target_column])\n",
        " y = data[target_column]\n",
        " # Handle categorical variables if they exist\n",
        " X = pd.get_dummies(X)  # One-hot encoding for categorical features\n",
        " if y.dtype == 'object':  # Encode target if it's categorical\n",
        "    le = LabelEncoder()\n",
        "    y = le.fit_transform(y)\n",
        "        # Step 3: Split data and train models without PCA\n",
        " X_train, X_test, y_train, y_test = train_test_split(X, y,\n",
        "test_size=0.2, random_state=42)\n",
        "        # Initialize models\n",
        " svm_model = SVC()\n",
        " knn_model = KNeighborsClassifier()\n",
        " log_reg_model = LogisticRegression(max_iter=1000)\n",
        "        # Train and evaluate SVM\n",
        " svm_model.fit(X_train, y_train)\n",
        " y_pred_svm = svm_model.predict(X_test)\n",
        " svm_accuracy = accuracy_score(y_test, y_pred_svm)\n",
        "        # Train and evaluate KNN\n",
        " knn_model.fit(X_train, y_train)\n",
        " y_pred_knn = knn_model.predict(X_test)\n",
        " knn_accuracy = accuracy_score(y_test, y_pred_knn)\n",
        "        # Train and evaluate Logistic Regression\n",
        " log_reg_model.fit(X_train, y_train)\n",
        " y_pred_log_reg = log_reg_model.predict(X_test)\n",
        " log_reg_accuracy = accuracy_score(y_test, y_pred_log_reg)\n",
        "        # Print accuracies without PCA\n",
        " print(\"Accuracies without PCA:\")\n",
        " print(f\"SVM Accuracy: {svm_accuracy}\")\n",
        " print(f\"KNN Accuracy: {knn_accuracy}\")\n",
        " print(f\"Logistic Regression Accuracy: {log_reg_accuracy}\")\n",
        " pca = PCA(n_components=0.95)\n",
        " X_pca = pca.fit_transform(X)\n",
        "        # Step 5: Split PCA-transformed data and train models\n",
        " X_train_pca, X_test_pca, y_train, y_test = train_test_split(X_pca, y,\n",
        "test_size=0.2, random_state=42)\n",
        "        # Train and evaluate SVM on PCA-transformed data\n",
        " svm_model.fit(X_train_pca, y_train)\n",
        " y_pred_svm_pca = svm_model.predict(X_test_pca)\n",
        " svm_accuracy_pca = accuracy_score(y_test, y_pred_svm_pca)\n",
        "        # Train and evaluate KNN on PCA-transformed data\n",
        " knn_model.fit(X_train_pca, y_train)\n",
        " y_pred_knn_pca = knn_model.predict(X_test_pca)\n",
        " knn_accuracy_pca = accuracy_score(y_test, y_pred_knn_pca)\n",
        "        # Train and evaluate Logistic Regression on PCA-transformed\n",
        "data\n",
        " log_reg_model.fit(X_train_pca, y_train)\n",
        " y_pred_log_reg_pca = log_reg_model.predict(X_test_pca)\n",
        " log_reg_accuracy_pca = accuracy_score(y_test, y_pred_log_reg_pca)\n",
        "        # Print accuracies with PCA\n",
        " print(\"\\nAccuracies with PCA:\")\n",
        " print(f\"SVM Accuracy (PCA): {svm_accuracy_pca}\")\n",
        " print(f\"KNN Accuracy (PCA): {knn_accuracy_pca}\")\n",
        " print(f\"Logistic Regression Accuracy (PCA): {log_reg_accuracy_pca}\")"
      ],
      "metadata": {
        "colab": {
          "base_uri": "https://localhost:8080/"
        },
        "id": "Ask1qKouFFrX",
        "outputId": "435d34f1-9888-4fc7-d3b5-931e80e8b1ea"
      },
      "execution_count": 11,
      "outputs": [
        {
          "output_type": "stream",
          "name": "stdout",
          "text": [
            "Accuracies without PCA:\n",
            "SVM Accuracy: 0.7761194029850746\n",
            "KNN Accuracy: 0.7164179104477612\n",
            "Logistic Regression Accuracy: 0.7910447761194029\n",
            "\n",
            "Accuracies with PCA:\n",
            "SVM Accuracy (PCA): 0.7761194029850746\n",
            "KNN Accuracy (PCA): 0.8059701492537313\n",
            "Logistic Regression Accuracy (PCA): 0.7761194029850746\n"
          ]
        }
      ]
    }
  ]
}